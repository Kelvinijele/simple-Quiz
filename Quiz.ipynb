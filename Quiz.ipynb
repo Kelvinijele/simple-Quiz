{
 "cells": [
  {
   "cell_type": "code",
   "execution_count": null,
   "metadata": {},
   "outputs": [],
   "source": [
    "#assignment\n",
    "\n",
    "time_taken=[]\n",
    "no_correct=[]\n",
    "start=1\n",
    "from datetime import datetime\n",
    "from random import randrange\n",
    "while start<=5:\n",
    "    num1=randrange(10,100)\n",
    "    num2=randrange(10,100)\n",
    "    begin= datetime.now()\n",
    "    feedback= int(input(f'{num1} + {num2} = ?\\n'))    \n",
    "    end= datetime.now()\n",
    "    dif= end-begin\n",
    "    if feedback==num1+num2:\n",
    "        time_taken.append(dif.seconds)\n",
    "        no_correct.append(1)\n",
    "    else:\n",
    "        time_taken.append(20)\n",
    "        no_correct.append(0)\n",
    "    start+=1\n",
    "print(f'you answered {sum(no_correct)} questions correctly in {sum(time_taken)} seconds')\n"
   ]
  }
 ],
 "metadata": {
  "kernelspec": {
   "display_name": "Python 3",
   "language": "python",
   "name": "python3"
  },
  "language_info": {
   "codemirror_mode": {
    "name": "ipython",
    "version": 3
   },
   "file_extension": ".py",
   "mimetype": "text/x-python",
   "name": "python",
   "nbconvert_exporter": "python",
   "pygments_lexer": "ipython3",
   "version": "3.7.6"
  }
 },
 "nbformat": 4,
 "nbformat_minor": 4
}
